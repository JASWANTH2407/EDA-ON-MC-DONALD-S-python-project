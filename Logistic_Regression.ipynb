{
  "nbformat": 4,
  "nbformat_minor": 0,
  "metadata": {
    "colab": {
      "provenance": [],
      "authorship_tag": "ABX9TyOO1nVLE8kV7DMQBhONfo4K",
      "include_colab_link": true
    },
    "kernelspec": {
      "name": "python3",
      "display_name": "Python 3"
    },
    "language_info": {
      "name": "python"
    }
  },
  "cells": [
    {
      "cell_type": "markdown",
      "metadata": {
        "id": "view-in-github",
        "colab_type": "text"
      },
      "source": [
        "<a href=\"https://colab.research.google.com/github/JASWANTH2407/EDA-ON-MC-DONALD-S-python-project/blob/main/Logistic_Regression.ipynb\" target=\"_parent\"><img src=\"https://colab.research.google.com/assets/colab-badge.svg\" alt=\"Open In Colab\"/></a>"
      ]
    },
    {
      "cell_type": "markdown",
      "source": [
        "# ***Bank Marketing Using Logistic Regression***"
      ],
      "metadata": {
        "id": "Rm9cKNLIvp5b"
      }
    },
    {
      "cell_type": "code",
      "source": [],
      "metadata": {
        "id": "uaMU1016v2xa"
      },
      "execution_count": null,
      "outputs": []
    }
  ]
}